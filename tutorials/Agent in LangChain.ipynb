{
 "cells": [
  {
   "cell_type": "code",
   "execution_count": 1,
   "id": "bcbde20f",
   "metadata": {},
   "outputs": [
    {
     "name": "stdout",
     "output_type": "stream",
     "text": [
      "Requirement already satisfied: langchain-community in c:\\users\\krysp\\anaconda3\\lib\\site-packages (0.3.23)\n",
      "Requirement already satisfied: langgraph in c:\\users\\krysp\\anaconda3\\lib\\site-packages (0.4.2)\n",
      "Requirement already satisfied: langchain-anthropic in c:\\users\\krysp\\anaconda3\\lib\\site-packages (0.3.12)\n",
      "Requirement already satisfied: tavily-python in c:\\users\\krysp\\anaconda3\\lib\\site-packages (0.7.2)\n",
      "Requirement already satisfied: langgraph-checkpoint-sqlite in c:\\users\\krysp\\anaconda3\\lib\\site-packages (2.0.7)\n",
      "Requirement already satisfied: langchain-core<1.0.0,>=0.3.56 in c:\\users\\krysp\\anaconda3\\lib\\site-packages (from langchain-community) (0.3.59)\n",
      "Requirement already satisfied: langchain<1.0.0,>=0.3.24 in c:\\users\\krysp\\anaconda3\\lib\\site-packages (from langchain-community) (0.3.25)\n",
      "Requirement already satisfied: SQLAlchemy<3,>=1.4 in c:\\users\\krysp\\anaconda3\\lib\\site-packages (from langchain-community) (2.0.34)\n",
      "Requirement already satisfied: requests<3,>=2 in c:\\users\\krysp\\anaconda3\\lib\\site-packages (from langchain-community) (2.32.3)\n",
      "Requirement already satisfied: PyYAML>=5.3 in c:\\users\\krysp\\anaconda3\\lib\\site-packages (from langchain-community) (6.0.1)\n",
      "Requirement already satisfied: aiohttp<4.0.0,>=3.8.3 in c:\\users\\krysp\\anaconda3\\lib\\site-packages (from langchain-community) (3.10.5)\n",
      "Requirement already satisfied: tenacity!=8.4.0,<10,>=8.1.0 in c:\\users\\krysp\\anaconda3\\lib\\site-packages (from langchain-community) (8.2.3)\n",
      "Requirement already satisfied: dataclasses-json<0.7,>=0.5.7 in c:\\users\\krysp\\anaconda3\\lib\\site-packages (from langchain-community) (0.6.7)\n",
      "Requirement already satisfied: pydantic-settings<3.0.0,>=2.4.0 in c:\\users\\krysp\\anaconda3\\lib\\site-packages (from langchain-community) (2.9.1)\n",
      "Requirement already satisfied: langsmith<0.4,>=0.1.125 in c:\\users\\krysp\\anaconda3\\lib\\site-packages (from langchain-community) (0.3.33)\n",
      "Requirement already satisfied: httpx-sse<1.0.0,>=0.4.0 in c:\\users\\krysp\\anaconda3\\lib\\site-packages (from langchain-community) (0.4.0)\n",
      "Requirement already satisfied: numpy>=1.26.2 in c:\\users\\krysp\\anaconda3\\lib\\site-packages (from langchain-community) (1.26.4)\n",
      "Requirement already satisfied: langgraph-checkpoint<3.0.0,>=2.0.10 in c:\\users\\krysp\\anaconda3\\lib\\site-packages (from langgraph) (2.0.24)\n",
      "Requirement already satisfied: langgraph-prebuilt>=0.1.8 in c:\\users\\krysp\\anaconda3\\lib\\site-packages (from langgraph) (0.1.8)\n",
      "Requirement already satisfied: langgraph-sdk>=0.1.42 in c:\\users\\krysp\\anaconda3\\lib\\site-packages (from langgraph) (0.1.63)\n",
      "Requirement already satisfied: pydantic>=2.7.4 in c:\\users\\krysp\\anaconda3\\lib\\site-packages (from langgraph) (2.11.3)\n",
      "Requirement already satisfied: xxhash<4.0.0,>=3.5.0 in c:\\users\\krysp\\anaconda3\\lib\\site-packages (from langgraph) (3.5.0)\n",
      "Requirement already satisfied: anthropic<1,>=0.49.0 in c:\\users\\krysp\\anaconda3\\lib\\site-packages (from langchain-anthropic) (0.51.0)\n",
      "Requirement already satisfied: tiktoken>=0.5.1 in c:\\users\\krysp\\anaconda3\\lib\\site-packages (from tavily-python) (0.9.0)\n",
      "Requirement already satisfied: httpx in c:\\users\\krysp\\anaconda3\\lib\\site-packages (from tavily-python) (0.27.0)\n",
      "Requirement already satisfied: aiosqlite<0.22,>=0.20 in c:\\users\\krysp\\anaconda3\\lib\\site-packages (from langgraph-checkpoint-sqlite) (0.21.0)\n",
      "Requirement already satisfied: aiohappyeyeballs>=2.3.0 in c:\\users\\krysp\\anaconda3\\lib\\site-packages (from aiohttp<4.0.0,>=3.8.3->langchain-community) (2.4.0)\n",
      "Requirement already satisfied: aiosignal>=1.1.2 in c:\\users\\krysp\\anaconda3\\lib\\site-packages (from aiohttp<4.0.0,>=3.8.3->langchain-community) (1.2.0)\n",
      "Requirement already satisfied: attrs>=17.3.0 in c:\\users\\krysp\\anaconda3\\lib\\site-packages (from aiohttp<4.0.0,>=3.8.3->langchain-community) (23.1.0)\n",
      "Requirement already satisfied: frozenlist>=1.1.1 in c:\\users\\krysp\\anaconda3\\lib\\site-packages (from aiohttp<4.0.0,>=3.8.3->langchain-community) (1.4.0)\n",
      "Requirement already satisfied: multidict<7.0,>=4.5 in c:\\users\\krysp\\anaconda3\\lib\\site-packages (from aiohttp<4.0.0,>=3.8.3->langchain-community) (6.0.4)\n",
      "Requirement already satisfied: yarl<2.0,>=1.0 in c:\\users\\krysp\\anaconda3\\lib\\site-packages (from aiohttp<4.0.0,>=3.8.3->langchain-community) (1.11.0)\n",
      "Requirement already satisfied: typing_extensions>=4.0 in c:\\users\\krysp\\anaconda3\\lib\\site-packages (from aiosqlite<0.22,>=0.20->langgraph-checkpoint-sqlite) (4.13.2)\n",
      "Requirement already satisfied: anyio<5,>=3.5.0 in c:\\users\\krysp\\anaconda3\\lib\\site-packages (from anthropic<1,>=0.49.0->langchain-anthropic) (4.2.0)\n",
      "Requirement already satisfied: distro<2,>=1.7.0 in c:\\users\\krysp\\anaconda3\\lib\\site-packages (from anthropic<1,>=0.49.0->langchain-anthropic) (1.9.0)\n",
      "Requirement already satisfied: jiter<1,>=0.4.0 in c:\\users\\krysp\\anaconda3\\lib\\site-packages (from anthropic<1,>=0.49.0->langchain-anthropic) (0.9.0)\n",
      "Requirement already satisfied: sniffio in c:\\users\\krysp\\anaconda3\\lib\\site-packages (from anthropic<1,>=0.49.0->langchain-anthropic) (1.3.0)\n",
      "Requirement already satisfied: marshmallow<4.0.0,>=3.18.0 in c:\\users\\krysp\\anaconda3\\lib\\site-packages (from dataclasses-json<0.7,>=0.5.7->langchain-community) (3.26.1)\n",
      "Requirement already satisfied: typing-inspect<1,>=0.4.0 in c:\\users\\krysp\\anaconda3\\lib\\site-packages (from dataclasses-json<0.7,>=0.5.7->langchain-community) (0.9.0)\n",
      "Requirement already satisfied: certifi in c:\\users\\krysp\\anaconda3\\lib\\site-packages (from httpx->tavily-python) (2024.8.30)\n",
      "Requirement already satisfied: httpcore==1.* in c:\\users\\krysp\\anaconda3\\lib\\site-packages (from httpx->tavily-python) (1.0.2)\n",
      "Requirement already satisfied: idna in c:\\users\\krysp\\anaconda3\\lib\\site-packages (from httpx->tavily-python) (3.7)\n",
      "Requirement already satisfied: h11<0.15,>=0.13 in c:\\users\\krysp\\anaconda3\\lib\\site-packages (from httpcore==1.*->httpx->tavily-python) (0.14.0)\n",
      "Requirement already satisfied: langchain-text-splitters<1.0.0,>=0.3.8 in c:\\users\\krysp\\anaconda3\\lib\\site-packages (from langchain<1.0.0,>=0.3.24->langchain-community) (0.3.8)\n",
      "Requirement already satisfied: jsonpatch<2.0,>=1.33 in c:\\users\\krysp\\anaconda3\\lib\\site-packages (from langchain-core<1.0.0,>=0.3.56->langchain-community) (1.33)\n",
      "Requirement already satisfied: packaging<25,>=23.2 in c:\\users\\krysp\\anaconda3\\lib\\site-packages (from langchain-core<1.0.0,>=0.3.56->langchain-community) (24.1)\n",
      "Requirement already satisfied: ormsgpack<2.0.0,>=1.8.0 in c:\\users\\krysp\\anaconda3\\lib\\site-packages (from langgraph-checkpoint<3.0.0,>=2.0.10->langgraph) (1.9.1)\n",
      "Requirement already satisfied: orjson>=3.10.1 in c:\\users\\krysp\\anaconda3\\lib\\site-packages (from langgraph-sdk>=0.1.42->langgraph) (3.10.16)\n",
      "Requirement already satisfied: requests-toolbelt<2.0.0,>=1.0.0 in c:\\users\\krysp\\anaconda3\\lib\\site-packages (from langsmith<0.4,>=0.1.125->langchain-community) (1.0.0)\n",
      "Requirement already satisfied: zstandard<0.24.0,>=0.23.0 in c:\\users\\krysp\\anaconda3\\lib\\site-packages (from langsmith<0.4,>=0.1.125->langchain-community) (0.23.0)\n",
      "Requirement already satisfied: annotated-types>=0.6.0 in c:\\users\\krysp\\anaconda3\\lib\\site-packages (from pydantic>=2.7.4->langgraph) (0.6.0)\n",
      "Requirement already satisfied: pydantic-core==2.33.1 in c:\\users\\krysp\\anaconda3\\lib\\site-packages (from pydantic>=2.7.4->langgraph) (2.33.1)\n",
      "Requirement already satisfied: typing-inspection>=0.4.0 in c:\\users\\krysp\\anaconda3\\lib\\site-packages (from pydantic>=2.7.4->langgraph) (0.4.0)\n",
      "Requirement already satisfied: python-dotenv>=0.21.0 in c:\\users\\krysp\\anaconda3\\lib\\site-packages (from pydantic-settings<3.0.0,>=2.4.0->langchain-community) (0.21.0)\n",
      "Requirement already satisfied: charset-normalizer<4,>=2 in c:\\users\\krysp\\anaconda3\\lib\\site-packages (from requests<3,>=2->langchain-community) (3.3.2)\n",
      "Requirement already satisfied: urllib3<3,>=1.21.1 in c:\\users\\krysp\\anaconda3\\lib\\site-packages (from requests<3,>=2->langchain-community) (2.2.3)\n",
      "Requirement already satisfied: greenlet!=0.4.17 in c:\\users\\krysp\\anaconda3\\lib\\site-packages (from SQLAlchemy<3,>=1.4->langchain-community) (3.0.1)\n",
      "Requirement already satisfied: regex>=2022.1.18 in c:\\users\\krysp\\anaconda3\\lib\\site-packages (from tiktoken>=0.5.1->tavily-python) (2024.9.11)\n",
      "Requirement already satisfied: jsonpointer>=1.9 in c:\\users\\krysp\\anaconda3\\lib\\site-packages (from jsonpatch<2.0,>=1.33->langchain-core<1.0.0,>=0.3.56->langchain-community) (2.1)\n",
      "Requirement already satisfied: mypy-extensions>=0.3.0 in c:\\users\\krysp\\anaconda3\\lib\\site-packages (from typing-inspect<1,>=0.4.0->dataclasses-json<0.7,>=0.5.7->langchain-community) (1.0.0)\n",
      "Note: you may need to restart the kernel to use updated packages.\n"
     ]
    }
   ],
   "source": [
    "%pip install -U langchain-community langgraph langchain-anthropic tavily-python langgraph-checkpoint-sqlite"
   ]
  },
  {
   "cell_type": "code",
   "execution_count": 2,
   "id": "a709418a",
   "metadata": {},
   "outputs": [],
   "source": [
    "import os\n",
    "os.environ[\"LANGCHAIN_TRACING_V2\"] = \"true\"  # Required to enable tracing\n",
    "os.environ[\"LANGCHAIN_ENDPOINT\"] = \"https://api.smith.langchain.com\"  # Optional (defaults to this)\n",
    "os.environ[\"LANGCHAIN_API_KEY\"] = \"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\"\n",
    "os.environ[\"LANGCHAIN_PROJECT\"] = \"Agent with LangChain\""
   ]
  },
  {
   "cell_type": "markdown",
   "id": "ba40d9df",
   "metadata": {},
   "source": [
    "Tavily is the search engine"
   ]
  },
  {
   "cell_type": "code",
   "execution_count": 3,
   "id": "037a6886",
   "metadata": {},
   "outputs": [],
   "source": [
    "import getpass\n",
    "import os\n",
    "\n",
    "os.environ[\"TAVILY_API_KEY\"] = getpass.getpass()"
   ]
  },
  {
   "cell_type": "code",
   "execution_count": 4,
   "id": "24420feb",
   "metadata": {},
   "outputs": [
    {
     "name": "stdout",
     "output_type": "stream",
     "text": [
      "[{'title': 'Weather in San Francisco', 'url': 'https://www.weatherapi.com/', 'content': \"{'location': {'name': 'San Francisco', 'region': 'California', 'country': 'United States of America', 'lat': 37.775, 'lon': -122.4183, 'tz_id': 'America/Los_Angeles', 'localtime_epoch': 1746651924, 'localtime': '2025-05-07 14:05'}, 'current': {'last_updated_epoch': 1746651600, 'last_updated': '2025-05-07 14:00', 'temp_c': 14.3, 'temp_f': 57.7, 'is_day': 1, 'condition': {'text': 'Mist', 'icon': '//cdn.weatherapi.com/weather/64x64/day/143.png', 'code': 1030}, 'wind_mph': 12.1, 'wind_kph': 19.4, 'wind_degree': 249, 'wind_dir': 'WSW', 'pressure_mb': 1020.0, 'pressure_in': 30.12, 'precip_mm': 0.0, 'precip_in': 0.0, 'humidity': 82, 'cloud': 75, 'feelslike_c': 12.8, 'feelslike_f': 55.1, 'windchill_c': 11.3, 'windchill_f': 52.3, 'heatindex_c': 12.6, 'heatindex_f': 54.6, 'dewpoint_c': 10.7, 'dewpoint_f': 51.3, 'vis_km': 8.0, 'vis_miles': 4.0, 'uv': 8.2, 'gust_mph': 14.7, 'gust_kph': 23.7}}\", 'score': 0.6600482}, {'title': 'San Francisco, CA Weather Forecast - AccuWeather', 'url': 'https://www.accuweather.com/en/us/san-francisco/94103/weather-forecast/347629', 'content': 'Current Weather --------------- 9:15 PM 48°F RealFeel® 49° Clear More Details Wind WNW 3 mph Wind Gusts 5 mph Air Quality Poor\\nSan Francisco Weather Radar & Maps\\n Static Radar Temporarily Unavailable Thank you for your patience as we work to get everything up and running again. Refresh Page\\n Clouds  Temperature\\nHourly Weather\\n10 PM  47°  0%11 PM  46°  0%12 AM  45°  0%1 AM  45°  0%2 AM  44°  0%3 AM  43°  0%4 AM  42°  0%5 AM  42°  0%6 AM  42°  0%7 AM  41°  0%8 AM  42°  0%9 AM  44°  0%', 'score': 0.60694176}]\n"
     ]
    }
   ],
   "source": [
    "from langchain_community.tools.tavily_search import TavilySearchResults\n",
    "\n",
    "search = TavilySearchResults(max_results=2)\n",
    "search_results = search.invoke(\"what is the weather in SF\")\n",
    "print(search_results)\n",
    "# If we want, we can create other tools.\n",
    "# Once we have all the tools we want, we can put them in a list that we will reference later.\n",
    "tools = [search]"
   ]
  },
  {
   "cell_type": "markdown",
   "id": "6cf5cd26",
   "metadata": {},
   "source": [
    "Language Models"
   ]
  },
  {
   "cell_type": "code",
   "execution_count": 5,
   "id": "3b10f6a5",
   "metadata": {},
   "outputs": [
    {
     "name": "stdout",
     "output_type": "stream",
     "text": [
      "Note: you may need to restart the kernel to use updated packages.\n"
     ]
    }
   ],
   "source": [
    "%pip install -qU \"langchain[google-genai]\""
   ]
  },
  {
   "cell_type": "code",
   "execution_count": 6,
   "id": "c28a44a6",
   "metadata": {},
   "outputs": [],
   "source": [
    "import getpass\n",
    "import os\n",
    "\n",
    "if not os.environ.get(\"GOOGLE_API_KEY\"):\n",
    "  os.environ[\"GOOGLE_API_KEY\"] = getpass.getpass(\"Enter API key for Google Gemini: \")\n",
    "\n",
    "from langchain.chat_models import init_chat_model\n",
    "\n",
    "model = init_chat_model(\"gemini-2.0-flash\", model_provider=\"google_genai\")"
   ]
  },
  {
   "cell_type": "code",
   "execution_count": 7,
   "id": "dc3be084",
   "metadata": {},
   "outputs": [
    {
     "data": {
      "text/plain": [
       "'Hi there! How can I help you today?'"
      ]
     },
     "execution_count": 7,
     "metadata": {},
     "output_type": "execute_result"
    }
   ],
   "source": [
    "from langchain_core.messages import HumanMessage\n",
    "\n",
    "response = model.invoke([HumanMessage(content=\"hi!\")])\n",
    "response.content"
   ]
  },
  {
   "cell_type": "markdown",
   "id": "f40cf06d",
   "metadata": {},
   "source": [
    "Now let's enable the model to do tool calling"
   ]
  },
  {
   "cell_type": "code",
   "execution_count": 8,
   "id": "90cc432d",
   "metadata": {},
   "outputs": [],
   "source": [
    "model_with_tools = model.bind_tools(tools)"
   ]
  },
  {
   "cell_type": "markdown",
   "id": "b941100f",
   "metadata": {},
   "source": [
    "Let's create the agent"
   ]
  },
  {
   "cell_type": "code",
   "execution_count": 9,
   "id": "42be833a",
   "metadata": {},
   "outputs": [],
   "source": [
    "from langgraph.prebuilt import create_react_agent\n",
    "\n",
    "agent_executor = create_react_agent(model, tools)"
   ]
  },
  {
   "cell_type": "markdown",
   "id": "06079be1",
   "metadata": {},
   "source": [
    "For now thr queries are stateless (won't remember previous interactions)\n",
    "\n",
    "Without need of tool"
   ]
  },
  {
   "cell_type": "code",
   "execution_count": 10,
   "id": "295f1371",
   "metadata": {},
   "outputs": [
    {
     "data": {
      "text/plain": [
       "[HumanMessage(content='hi!', additional_kwargs={}, response_metadata={}, id='9ae7336f-ba53-42bc-a5c2-11d8fc5112d2'),\n",
       " AIMessage(content='Hi there! How can I help you today?', additional_kwargs={}, response_metadata={'prompt_feedback': {'block_reason': 0, 'safety_ratings': []}, 'finish_reason': 'STOP', 'model_name': 'gemini-2.0-flash', 'safety_ratings': []}, id='run--8c7ec597-4bec-4d97-a488-a98dea6683ea-0', usage_metadata={'input_tokens': 51, 'output_tokens': 11, 'total_tokens': 62, 'input_token_details': {'cache_read': 0}})]"
      ]
     },
     "execution_count": 10,
     "metadata": {},
     "output_type": "execute_result"
    }
   ],
   "source": [
    "response = agent_executor.invoke({\"messages\": [HumanMessage(content=\"hi!\")]})\n",
    "\n",
    "response[\"messages\"]"
   ]
  },
  {
   "cell_type": "markdown",
   "id": "c357ee22",
   "metadata": {},
   "source": [
    "With tool"
   ]
  },
  {
   "cell_type": "code",
   "execution_count": 11,
   "id": "75c87e1b",
   "metadata": {},
   "outputs": [
    {
     "data": {
      "text/plain": [
       "[HumanMessage(content='whats the weather in sf?', additional_kwargs={}, response_metadata={}, id='2203a311-7c87-4c33-8ea1-e908cf4dfa5f'),\n",
       " AIMessage(content='', additional_kwargs={'function_call': {'name': 'tavily_search_results_json', 'arguments': '{\"query\": \"weather in San Francisco\"}'}}, response_metadata={'prompt_feedback': {'block_reason': 0, 'safety_ratings': []}, 'finish_reason': 'STOP', 'model_name': 'gemini-2.0-flash', 'safety_ratings': []}, id='run--9f1ee47c-b49f-449e-9594-8fdf062eac7b-0', tool_calls=[{'name': 'tavily_search_results_json', 'args': {'query': 'weather in San Francisco'}, 'id': '91d69168-409c-4808-ad2a-542613d24daa', 'type': 'tool_call'}], usage_metadata={'input_tokens': 55, 'output_tokens': 13, 'total_tokens': 68, 'input_token_details': {'cache_read': 0}}),\n",
       " ToolMessage(content='[{\"title\": \"San Francisco weather in July 2025 | Weather25.com\", \"url\": \"https://www.weather25.com/north-america/usa/california/san-francisco?page=month&month=July\", \"content\": \"San Francisco weather in July 2025\\\\n\\\\nThe temperatures in San Francisco in July are comfortable with low of 14°C and and high up to 25°C.\\\\n\\\\nThere is little to no rain in San Francisco during July, so it’s a lot easier to explore the city. Just remember to dress in warm layers, as it can still get pretty chilly.\\\\n\\\\nOur weather forecast can give you a great sense of what weather to expect in San Francisco in July 2025. [...] Month | Temperatures | Rainy Days | Dry Days | Snowy Days | Rainfall | Weather | More details\\\\nJanuary | 15°/7° | 4 | 27 | 0 | 63mm | Good | San Francisco in January\\\\nFebruary | 16°/7° | 4 | 24 | 0 | 61mm | Good | San Francisco in February\\\\nMarch | 17°/8° | 5 | 26 | 0 | 62mm | Good | San Francisco in March\\\\nApril | 18°/9° | 2 | 28 | 0 | 22mm | Good | San Francisco in April\\\\nMay | 20°/10° | 1 | 30 | 0 | 13mm | Good | San Francisco in May [...] June | 23°/12° | 0 | 30 | 0 | 6mm | Perfect | San Francisco in June\\\\nJuly | 25°/14° | 0 | 31 | 0 | 3mm | Perfect | San Francisco in July\\\\nAugust | 25°/14° | 0 | 31 | 0 | 3mm | Perfect | San Francisco in August\\\\nSeptember | 25°/14° | 0 | 30 | 0 | 4mm | Perfect | San Francisco in September\\\\nOctober | 23°/13° | 1 | 30 | 0 | 26mm | Perfect | San Francisco in October\\\\nNovember | 18°/10° | 3 | 27 | 0 | 37mm | Good | San Francisco in November\", \"score\": 0.9020676}, {\"title\": \"Weather in San Francisco\", \"url\": \"https://www.weatherapi.com/\", \"content\": \"{\\'location\\': {\\'name\\': \\'San Francisco\\', \\'region\\': \\'California\\', \\'country\\': \\'United States of America\\', \\'lat\\': 37.775, \\'lon\\': -122.4183, \\'tz_id\\': \\'America/Los_Angeles\\', \\'localtime_epoch\\': 1746652455, \\'localtime\\': \\'2025-05-07 14:14\\'}, \\'current\\': {\\'last_updated_epoch\\': 1746651600, \\'last_updated\\': \\'2025-05-07 14:00\\', \\'temp_c\\': 14.3, \\'temp_f\\': 57.7, \\'is_day\\': 1, \\'condition\\': {\\'text\\': \\'Mist\\', \\'icon\\': \\'//cdn.weatherapi.com/weather/64x64/day/143.png\\', \\'code\\': 1030}, \\'wind_mph\\': 12.1, \\'wind_kph\\': 19.4, \\'wind_degree\\': 249, \\'wind_dir\\': \\'WSW\\', \\'pressure_mb\\': 1020.0, \\'pressure_in\\': 30.12, \\'precip_mm\\': 0.0, \\'precip_in\\': 0.0, \\'humidity\\': 82, \\'cloud\\': 75, \\'feelslike_c\\': 12.8, \\'feelslike_f\\': 55.1, \\'windchill_c\\': 11.3, \\'windchill_f\\': 52.3, \\'heatindex_c\\': 12.6, \\'heatindex_f\\': 54.6, \\'dewpoint_c\\': 10.7, \\'dewpoint_f\\': 51.3, \\'vis_km\\': 8.0, \\'vis_miles\\': 4.0, \\'uv\\': 8.2, \\'gust_mph\\': 14.7, \\'gust_kph\\': 23.7}}\", \"score\": 0.8910432}]', name='tavily_search_results_json', id='ca28933b-4378-491b-9f07-434824bc7382', tool_call_id='91d69168-409c-4808-ad2a-542613d24daa', artifact={'query': 'weather in San Francisco', 'follow_up_questions': None, 'answer': None, 'images': [], 'results': [{'url': 'https://www.weather25.com/north-america/usa/california/san-francisco?page=month&month=July', 'title': 'San Francisco weather in July 2025 | Weather25.com', 'content': 'San Francisco weather in July 2025\\n\\nThe temperatures in San Francisco in July are comfortable with low of 14°C and and high up to 25°C.\\n\\nThere is little to no rain in San Francisco during July, so it’s a lot easier to explore the city. Just remember to dress in warm layers, as it can still get pretty chilly.\\n\\nOur weather forecast can give you a great sense of what weather to expect in San Francisco in July 2025. [...] Month | Temperatures | Rainy Days | Dry Days | Snowy Days | Rainfall | Weather | More details\\nJanuary | 15°/7° | 4 | 27 | 0 | 63mm | Good | San Francisco in January\\nFebruary | 16°/7° | 4 | 24 | 0 | 61mm | Good | San Francisco in February\\nMarch | 17°/8° | 5 | 26 | 0 | 62mm | Good | San Francisco in March\\nApril | 18°/9° | 2 | 28 | 0 | 22mm | Good | San Francisco in April\\nMay | 20°/10° | 1 | 30 | 0 | 13mm | Good | San Francisco in May [...] June | 23°/12° | 0 | 30 | 0 | 6mm | Perfect | San Francisco in June\\nJuly | 25°/14° | 0 | 31 | 0 | 3mm | Perfect | San Francisco in July\\nAugust | 25°/14° | 0 | 31 | 0 | 3mm | Perfect | San Francisco in August\\nSeptember | 25°/14° | 0 | 30 | 0 | 4mm | Perfect | San Francisco in September\\nOctober | 23°/13° | 1 | 30 | 0 | 26mm | Perfect | San Francisco in October\\nNovember | 18°/10° | 3 | 27 | 0 | 37mm | Good | San Francisco in November', 'score': 0.9020676, 'raw_content': None}, {'title': 'Weather in San Francisco', 'url': 'https://www.weatherapi.com/', 'content': \"{'location': {'name': 'San Francisco', 'region': 'California', 'country': 'United States of America', 'lat': 37.775, 'lon': -122.4183, 'tz_id': 'America/Los_Angeles', 'localtime_epoch': 1746652455, 'localtime': '2025-05-07 14:14'}, 'current': {'last_updated_epoch': 1746651600, 'last_updated': '2025-05-07 14:00', 'temp_c': 14.3, 'temp_f': 57.7, 'is_day': 1, 'condition': {'text': 'Mist', 'icon': '//cdn.weatherapi.com/weather/64x64/day/143.png', 'code': 1030}, 'wind_mph': 12.1, 'wind_kph': 19.4, 'wind_degree': 249, 'wind_dir': 'WSW', 'pressure_mb': 1020.0, 'pressure_in': 30.12, 'precip_mm': 0.0, 'precip_in': 0.0, 'humidity': 82, 'cloud': 75, 'feelslike_c': 12.8, 'feelslike_f': 55.1, 'windchill_c': 11.3, 'windchill_f': 52.3, 'heatindex_c': 12.6, 'heatindex_f': 54.6, 'dewpoint_c': 10.7, 'dewpoint_f': 51.3, 'vis_km': 8.0, 'vis_miles': 4.0, 'uv': 8.2, 'gust_mph': 14.7, 'gust_kph': 23.7}}\", 'score': 0.8910432, 'raw_content': None}], 'response_time': 2.28}),\n",
       " AIMessage(content='The weather in San Francisco, California is currently 57.7°F (14.3°C) with mist. The wind is from the WSW at 12.1 mph.', additional_kwargs={}, response_metadata={'prompt_feedback': {'block_reason': 0, 'safety_ratings': []}, 'finish_reason': 'STOP', 'model_name': 'gemini-2.0-flash', 'safety_ratings': []}, id='run--f4e9cc72-891f-410c-b296-1e9d2cee6ad3-0', usage_metadata={'input_tokens': 1085, 'output_tokens': 42, 'total_tokens': 1127, 'input_token_details': {'cache_read': 0}})]"
      ]
     },
     "execution_count": 11,
     "metadata": {},
     "output_type": "execute_result"
    }
   ],
   "source": [
    "response = agent_executor.invoke(\n",
    "    {\"messages\": [HumanMessage(content=\"whats the weather in sf?\")]}\n",
    ")\n",
    "response[\"messages\"]"
   ]
  },
  {
   "cell_type": "markdown",
   "id": "b10954cf",
   "metadata": {},
   "source": [
    "Till now we have seen only the final response using .invoke\n",
    "Instead streams allows to show the multiple steps the agent makes"
   ]
  },
  {
   "cell_type": "code",
   "execution_count": 12,
   "id": "aa9e9418",
   "metadata": {},
   "outputs": [
    {
     "name": "stdout",
     "output_type": "stream",
     "text": [
      "================================\u001b[1m Human Message \u001b[0m=================================\n",
      "\n",
      "whats the weather in sf?\n",
      "==================================\u001b[1m Ai Message \u001b[0m==================================\n",
      "Tool Calls:\n",
      "  tavily_search_results_json (4f8fe77f-021e-40fa-88da-b9e1a91492d3)\n",
      " Call ID: 4f8fe77f-021e-40fa-88da-b9e1a91492d3\n",
      "  Args:\n",
      "    query: weather in San Francisco\n",
      "=================================\u001b[1m Tool Message \u001b[0m=================================\n",
      "Name: tavily_search_results_json\n",
      "\n",
      "[{\"title\": \"San Francisco weather in July 2025 | Weather25.com\", \"url\": \"https://www.weather25.com/north-america/usa/california/san-francisco?page=month&month=July\", \"content\": \"San Francisco weather in July 2025\\n\\nThe temperatures in San Francisco in July are comfortable with low of 14°C and and high up to 25°C.\\n\\nThere is little to no rain in San Francisco during July, so it’s a lot easier to explore the city. Just remember to dress in warm layers, as it can still get pretty chilly.\\n\\nOur weather forecast can give you a great sense of what weather to expect in San Francisco in July 2025. [...] Month | Temperatures | Rainy Days | Dry Days | Snowy Days | Rainfall | Weather | More details\\nJanuary | 15°/7° | 4 | 27 | 0 | 63mm | Good | San Francisco in January\\nFebruary | 16°/7° | 4 | 24 | 0 | 61mm | Good | San Francisco in February\\nMarch | 17°/8° | 5 | 26 | 0 | 62mm | Good | San Francisco in March\\nApril | 18°/9° | 2 | 28 | 0 | 22mm | Good | San Francisco in April\\nMay | 20°/10° | 1 | 30 | 0 | 13mm | Good | San Francisco in May [...] June | 23°/12° | 0 | 30 | 0 | 6mm | Perfect | San Francisco in June\\nJuly | 25°/14° | 0 | 31 | 0 | 3mm | Perfect | San Francisco in July\\nAugust | 25°/14° | 0 | 31 | 0 | 3mm | Perfect | San Francisco in August\\nSeptember | 25°/14° | 0 | 30 | 0 | 4mm | Perfect | San Francisco in September\\nOctober | 23°/13° | 1 | 30 | 0 | 26mm | Perfect | San Francisco in October\\nNovember | 18°/10° | 3 | 27 | 0 | 37mm | Good | San Francisco in November\", \"score\": 0.9020676}, {\"title\": \"Weather in San Francisco\", \"url\": \"https://www.weatherapi.com/\", \"content\": \"{'location': {'name': 'San Francisco', 'region': 'California', 'country': 'United States of America', 'lat': 37.775, 'lon': -122.4183, 'tz_id': 'America/Los_Angeles', 'localtime_epoch': 1746652455, 'localtime': '2025-05-07 14:14'}, 'current': {'last_updated_epoch': 1746651600, 'last_updated': '2025-05-07 14:00', 'temp_c': 14.3, 'temp_f': 57.7, 'is_day': 1, 'condition': {'text': 'Mist', 'icon': '//cdn.weatherapi.com/weather/64x64/day/143.png', 'code': 1030}, 'wind_mph': 12.1, 'wind_kph': 19.4, 'wind_degree': 249, 'wind_dir': 'WSW', 'pressure_mb': 1020.0, 'pressure_in': 30.12, 'precip_mm': 0.0, 'precip_in': 0.0, 'humidity': 82, 'cloud': 75, 'feelslike_c': 12.8, 'feelslike_f': 55.1, 'windchill_c': 11.3, 'windchill_f': 52.3, 'heatindex_c': 12.6, 'heatindex_f': 54.6, 'dewpoint_c': 10.7, 'dewpoint_f': 51.3, 'vis_km': 8.0, 'vis_miles': 4.0, 'uv': 8.2, 'gust_mph': 14.7, 'gust_kph': 23.7}}\", \"score\": 0.8910432}]\n",
      "==================================\u001b[1m Ai Message \u001b[0m==================================\n",
      "\n",
      "The weather in San Francisco is currently 57.7°F (14.3°C) with mist. The wind is from the WSW at 12.1 mph.\n"
     ]
    }
   ],
   "source": [
    "for step in agent_executor.stream(\n",
    "    {\"messages\": [HumanMessage(content=\"whats the weather in sf?\")]},\n",
    "    stream_mode=\"values\",\n",
    "):\n",
    "    step[\"messages\"][-1].pretty_print()"
   ]
  },
  {
   "cell_type": "markdown",
   "id": "35e7c972",
   "metadata": {},
   "source": [
    "Now letìs try to give a memory to the agent using a MemorySaver and a thread_id"
   ]
  },
  {
   "cell_type": "code",
   "execution_count": 20,
   "id": "cd0c1005",
   "metadata": {},
   "outputs": [
    {
     "name": "stdout",
     "output_type": "stream",
     "text": [
      "{'agent': {'messages': [AIMessage(content='Hello Bob! How can I help you today?', additional_kwargs={}, response_metadata={'prompt_feedback': {'block_reason': 0, 'safety_ratings': []}, 'finish_reason': 'STOP', 'model_name': 'gemini-2.0-flash', 'safety_ratings': []}, id='run--2fa21570-685d-4580-9357-c7d369a44e44-0', usage_metadata={'input_tokens': 53, 'output_tokens': 11, 'total_tokens': 64, 'input_token_details': {'cache_read': 0}})]}}\n",
      "----\n"
     ]
    }
   ],
   "source": [
    "from langgraph.checkpoint.memory import MemorySaver\n",
    "\n",
    "memory = MemorySaver()\n",
    "\n",
    "agent_executor = create_react_agent(model, tools, checkpointer=memory)\n",
    "\n",
    "config = {\"configurable\": {\"thread_id\": \"abc123\"}}\n",
    "\n",
    "for chunk in agent_executor.stream(\n",
    "    {\"messages\": [HumanMessage(content=\"hi im bob!\")]}, config\n",
    "):\n",
    "    print(chunk)\n",
    "    print(\"----\")\n"
   ]
  },
  {
   "cell_type": "code",
   "execution_count": 21,
   "id": "8f4a128d",
   "metadata": {},
   "outputs": [
    {
     "name": "stdout",
     "output_type": "stream",
     "text": [
      "{'agent': {'messages': [AIMessage(content='Your name is Bob.', additional_kwargs={}, response_metadata={'prompt_feedback': {'block_reason': 0, 'safety_ratings': []}, 'finish_reason': 'STOP', 'model_name': 'gemini-2.0-flash', 'safety_ratings': []}, id='run--86f823ee-4725-4c85-8934-346b962f5d4e-0', usage_metadata={'input_tokens': 67, 'output_tokens': 6, 'total_tokens': 73, 'input_token_details': {'cache_read': 0}})]}}\n",
      "----\n"
     ]
    }
   ],
   "source": [
    "for chunk in agent_executor.stream(\n",
    "    {\"messages\": [HumanMessage(content=\"whats my name?\")]}, config\n",
    "):\n",
    "    print(chunk)\n",
    "    print(\"----\")"
   ]
  },
  {
   "cell_type": "markdown",
   "id": "6b6b5720",
   "metadata": {},
   "source": [
    "change thread to start a new conversation"
   ]
  },
  {
   "cell_type": "code",
   "execution_count": 22,
   "id": "cf3c20ec",
   "metadata": {},
   "outputs": [
    {
     "name": "stdout",
     "output_type": "stream",
     "text": [
      "{'agent': {'messages': [AIMessage(content='I do not have access to personal information like your name. I am a language model, not a person.', additional_kwargs={}, response_metadata={'prompt_feedback': {'block_reason': 0, 'safety_ratings': []}, 'finish_reason': 'STOP', 'model_name': 'gemini-2.0-flash', 'safety_ratings': []}, id='run--ec452d6d-a4a0-4c6e-a6d4-7650edd69164-0', usage_metadata={'input_tokens': 53, 'output_tokens': 23, 'total_tokens': 76, 'input_token_details': {'cache_read': 0}})]}}\n",
      "----\n"
     ]
    }
   ],
   "source": [
    "config = {\"configurable\": {\"thread_id\": \"xyz123\"}}\n",
    "for chunk in agent_executor.stream(\n",
    "    {\"messages\": [HumanMessage(content=\"whats my name?\")]}, config\n",
    "):\n",
    "    print(chunk)\n",
    "    print(\"----\")"
   ]
  }
 ],
 "metadata": {
  "kernelspec": {
   "display_name": "base",
   "language": "python",
   "name": "python3"
  },
  "language_info": {
   "codemirror_mode": {
    "name": "ipython",
    "version": 3
   },
   "file_extension": ".py",
   "mimetype": "text/x-python",
   "name": "python",
   "nbconvert_exporter": "python",
   "pygments_lexer": "ipython3",
   "version": "3.12.7"
  }
 },
 "nbformat": 4,
 "nbformat_minor": 5
}
